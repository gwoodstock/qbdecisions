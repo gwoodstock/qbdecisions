{
 "cells": [
  {
   "cell_type": "markdown",
   "metadata": {},
   "source": [
    "# EDA"
   ]
  },
  {
   "cell_type": "code",
   "execution_count": 4,
   "metadata": {},
   "outputs": [],
   "source": [
    "import pandas as pd\n",
    "import numpy as np\n",
    "import os\n",
    "import pickle\n",
    "import math"
   ]
  },
  {
   "cell_type": "code",
   "execution_count": 5,
   "metadata": {},
   "outputs": [],
   "source": [
    "def file_paths(path='./nfl-big-data-bowl-2021/weeks/'):\n",
    "    \"\"\"get file paths of all raw nfl game data split by week\"\"\"\n",
    "    \n",
    "    return sorted(['.' + os.sep + os.path.relpath(path) + os.sep + p for p in os.listdir(path) if not p.startswith('.')])"
   ]
  },
  {
   "cell_type": "code",
   "execution_count": 6,
   "metadata": {},
   "outputs": [],
   "source": [
    "def gen_week_data(start=1, stop=17, level=0):\n",
    "    paths = file_paths()                                                                                        # paths of all .csv files\n",
    "    weeks = list(range(start, (stop+1)))                                                                        # convert week range to list\n",
    "\n",
    "    if level == 0:\n",
    "        for week in weeks:                                                                                          # iterate over lists\n",
    "            if any([(f'week{str(week)}.csv') in p for p in paths]):                                                 # check if file path exists for week\n",
    "\n",
    "                data = pd.read_csv(file_paths()[np.array([(f'week{str(week)}.csv') in p for p in paths]).argmax()]) # get index location from list containing all file paths of specified week\n",
    "                data['week'] = week                                                                                 # assign week column to output \n",
    "                yield data                                                                                          # return data for given week\n",
    "    else:\n",
    "        for week in weeks:\n",
    "            path=f'./data/level_{level}/l{level}_week_{week}.csv'\n",
    "            data = pd.read_csv(path, compression='zip')\n",
    "            yield data"
   ]
  },
  {
   "cell_type": "markdown",
   "metadata": {},
   "source": [
    "# Data Storage"
   ]
  },
  {
   "cell_type": "code",
   "execution_count": 7,
   "metadata": {},
   "outputs": [],
   "source": [
    "path = './data/stores/ball_specs.pkl'\n",
    "with open(path, 'rb') as f:\n",
    "    ball_specs = pickle.load(f)"
   ]
  },
  {
   "cell_type": "code",
   "execution_count": 8,
   "metadata": {},
   "outputs": [],
   "source": [
    "path = './data/stores/home_away.pkl'\n",
    "with open(path, 'rb') as f:\n",
    "    home_away = pickle.load(f)"
   ]
  },
  {
   "cell_type": "code",
   "execution_count": 9,
   "metadata": {},
   "outputs": [],
   "source": [
    "path = './data/stores/possession.pkl'\n",
    "with open(path, 'rb') as f:\n",
    "    off_def = pickle.load(f)"
   ]
  },
  {
   "cell_type": "code",
   "execution_count": 10,
   "metadata": {},
   "outputs": [],
   "source": [
    "path = './data/stores/targeted.pkl'\n",
    "with open(path, 'rb') as f:\n",
    "    targeted = pickle.load(f)"
   ]
  },
  {
   "cell_type": "code",
   "execution_count": 11,
   "metadata": {},
   "outputs": [],
   "source": [
    "path = './data/stores/pass_complete.pkl'\n",
    "with open(path, 'rb') as f:\n",
    "    pass_complete = pickle.load(f)"
   ]
  },
  {
   "cell_type": "code",
   "execution_count": 12,
   "metadata": {},
   "outputs": [
    {
     "data": {
      "text/html": [
       "<div>\n",
       "<style scoped>\n",
       "    .dataframe tbody tr th:only-of-type {\n",
       "        vertical-align: middle;\n",
       "    }\n",
       "\n",
       "    .dataframe tbody tr th {\n",
       "        vertical-align: top;\n",
       "    }\n",
       "\n",
       "    .dataframe thead th {\n",
       "        text-align: right;\n",
       "    }\n",
       "</style>\n",
       "<table border=\"1\" class=\"dataframe\">\n",
       "  <thead>\n",
       "    <tr style=\"text-align: right;\">\n",
       "      <th></th>\n",
       "      <th>gameId</th>\n",
       "      <th>playId</th>\n",
       "      <th>frameId</th>\n",
       "      <th>displayName</th>\n",
       "      <th>opp_s</th>\n",
       "      <th>opp_o</th>\n",
       "      <th>opp_a</th>\n",
       "      <th>opp_dis</th>\n",
       "      <th>opp_dir</th>\n",
       "      <th>opp_dist</th>\n",
       "      <th>...</th>\n",
       "      <th>ball_x</th>\n",
       "      <th>ball_y</th>\n",
       "      <th>ball_s</th>\n",
       "      <th>ball_a</th>\n",
       "      <th>ball_dis</th>\n",
       "      <th>team_name</th>\n",
       "      <th>possession</th>\n",
       "      <th>dist_ball</th>\n",
       "      <th>target_loc</th>\n",
       "      <th>pass_complete</th>\n",
       "    </tr>\n",
       "  </thead>\n",
       "  <tbody>\n",
       "    <tr>\n",
       "      <th>0</th>\n",
       "      <td>2018090600</td>\n",
       "      <td>75</td>\n",
       "      <td>1</td>\n",
       "      <td>Malcolm Jenkins</td>\n",
       "      <td>0.00</td>\n",
       "      <td>257.61</td>\n",
       "      <td>0.00</td>\n",
       "      <td>0.00</td>\n",
       "      <td>193.97</td>\n",
       "      <td>1.916899</td>\n",
       "      <td>...</td>\n",
       "      <td>90.11</td>\n",
       "      <td>26.85</td>\n",
       "      <td>0.0</td>\n",
       "      <td>0.0</td>\n",
       "      <td>0.0</td>\n",
       "      <td>PHI</td>\n",
       "      <td>0</td>\n",
       "      <td>9.697051</td>\n",
       "      <td>Julio Jones</td>\n",
       "      <td>1</td>\n",
       "    </tr>\n",
       "    <tr>\n",
       "      <th>1</th>\n",
       "      <td>2018090600</td>\n",
       "      <td>75</td>\n",
       "      <td>1</td>\n",
       "      <td>Corey Graham</td>\n",
       "      <td>0.01</td>\n",
       "      <td>250.34</td>\n",
       "      <td>0.02</td>\n",
       "      <td>0.01</td>\n",
       "      <td>151.83</td>\n",
       "      <td>4.983252</td>\n",
       "      <td>...</td>\n",
       "      <td>90.11</td>\n",
       "      <td>26.85</td>\n",
       "      <td>0.0</td>\n",
       "      <td>0.0</td>\n",
       "      <td>0.0</td>\n",
       "      <td>PHI</td>\n",
       "      <td>0</td>\n",
       "      <td>6.153503</td>\n",
       "      <td>Julio Jones</td>\n",
       "      <td>1</td>\n",
       "    </tr>\n",
       "    <tr>\n",
       "      <th>2</th>\n",
       "      <td>2018090600</td>\n",
       "      <td>75</td>\n",
       "      <td>1</td>\n",
       "      <td>Rodney McLeod</td>\n",
       "      <td>0.00</td>\n",
       "      <td>289.57</td>\n",
       "      <td>0.01</td>\n",
       "      <td>0.02</td>\n",
       "      <td>240.93</td>\n",
       "      <td>18.203544</td>\n",
       "      <td>...</td>\n",
       "      <td>90.11</td>\n",
       "      <td>26.85</td>\n",
       "      <td>0.0</td>\n",
       "      <td>0.0</td>\n",
       "      <td>0.0</td>\n",
       "      <td>PHI</td>\n",
       "      <td>0</td>\n",
       "      <td>16.573575</td>\n",
       "      <td>Julio Jones</td>\n",
       "      <td>1</td>\n",
       "    </tr>\n",
       "    <tr>\n",
       "      <th>3</th>\n",
       "      <td>2018090600</td>\n",
       "      <td>75</td>\n",
       "      <td>1</td>\n",
       "      <td>Jordan Hicks</td>\n",
       "      <td>0.00</td>\n",
       "      <td>257.61</td>\n",
       "      <td>0.00</td>\n",
       "      <td>0.00</td>\n",
       "      <td>193.97</td>\n",
       "      <td>6.617469</td>\n",
       "      <td>...</td>\n",
       "      <td>90.11</td>\n",
       "      <td>26.85</td>\n",
       "      <td>0.0</td>\n",
       "      <td>0.0</td>\n",
       "      <td>0.0</td>\n",
       "      <td>PHI</td>\n",
       "      <td>0</td>\n",
       "      <td>5.604445</td>\n",
       "      <td>Julio Jones</td>\n",
       "      <td>1</td>\n",
       "    </tr>\n",
       "    <tr>\n",
       "      <th>4</th>\n",
       "      <td>2018090600</td>\n",
       "      <td>75</td>\n",
       "      <td>1</td>\n",
       "      <td>Ronald Darby</td>\n",
       "      <td>0.01</td>\n",
       "      <td>250.34</td>\n",
       "      <td>0.02</td>\n",
       "      <td>0.01</td>\n",
       "      <td>151.83</td>\n",
       "      <td>8.717477</td>\n",
       "      <td>...</td>\n",
       "      <td>90.11</td>\n",
       "      <td>26.85</td>\n",
       "      <td>0.0</td>\n",
       "      <td>0.0</td>\n",
       "      <td>0.0</td>\n",
       "      <td>PHI</td>\n",
       "      <td>0</td>\n",
       "      <td>9.761967</td>\n",
       "      <td>Julio Jones</td>\n",
       "      <td>1</td>\n",
       "    </tr>\n",
       "  </tbody>\n",
       "</table>\n",
       "<p>5 rows × 36 columns</p>\n",
       "</div>"
      ],
      "text/plain": [
       "       gameId  playId  frameId      displayName  opp_s   opp_o  opp_a  \\\n",
       "0  2018090600      75        1  Malcolm Jenkins   0.00  257.61   0.00   \n",
       "1  2018090600      75        1     Corey Graham   0.01  250.34   0.02   \n",
       "2  2018090600      75        1    Rodney McLeod   0.00  289.57   0.01   \n",
       "3  2018090600      75        1     Jordan Hicks   0.00  257.61   0.00   \n",
       "4  2018090600      75        1     Ronald Darby   0.01  250.34   0.02   \n",
       "\n",
       "   opp_dis  opp_dir   opp_dist  ... ball_x  ball_y  ball_s  ball_a  ball_dis  \\\n",
       "0     0.00   193.97   1.916899  ...  90.11   26.85     0.0     0.0       0.0   \n",
       "1     0.01   151.83   4.983252  ...  90.11   26.85     0.0     0.0       0.0   \n",
       "2     0.02   240.93  18.203544  ...  90.11   26.85     0.0     0.0       0.0   \n",
       "3     0.00   193.97   6.617469  ...  90.11   26.85     0.0     0.0       0.0   \n",
       "4     0.01   151.83   8.717477  ...  90.11   26.85     0.0     0.0       0.0   \n",
       "\n",
       "   team_name  possession  dist_ball   target_loc  pass_complete  \n",
       "0        PHI           0   9.697051  Julio Jones              1  \n",
       "1        PHI           0   6.153503  Julio Jones              1  \n",
       "2        PHI           0  16.573575  Julio Jones              1  \n",
       "3        PHI           0   5.604445  Julio Jones              1  \n",
       "4        PHI           0   9.761967  Julio Jones              1  \n",
       "\n",
       "[5 rows x 36 columns]"
      ]
     },
     "execution_count": 12,
     "metadata": {},
     "output_type": "execute_result"
    }
   ],
   "source": [
    "weeks = gen_week_data(level=4)\n",
    "week = next(weeks)\n",
    "week.head()"
   ]
  },
  {
   "cell_type": "code",
   "execution_count": 13,
   "metadata": {},
   "outputs": [
    {
     "data": {
      "text/plain": [
       "(986012, 36)"
      ]
     },
     "execution_count": 13,
     "metadata": {},
     "output_type": "execute_result"
    }
   ],
   "source": [
    "week.shape"
   ]
  },
  {
   "cell_type": "code",
   "execution_count": null,
   "metadata": {},
   "outputs": [],
   "source": []
  }
 ],
 "metadata": {
  "interpreter": {
   "hash": "88c5f94423f7813398e46ee1a83f25df5779adc924fdea5259c3374581082378"
  },
  "kernelspec": {
   "display_name": "Python 3.10.0 ('study')",
   "language": "python",
   "name": "python3"
  },
  "language_info": {
   "codemirror_mode": {
    "name": "ipython",
    "version": 3
   },
   "file_extension": ".py",
   "mimetype": "text/x-python",
   "name": "python",
   "nbconvert_exporter": "python",
   "pygments_lexer": "ipython3",
   "version": "3.10.0"
  },
  "orig_nbformat": 4
 },
 "nbformat": 4,
 "nbformat_minor": 2
}
